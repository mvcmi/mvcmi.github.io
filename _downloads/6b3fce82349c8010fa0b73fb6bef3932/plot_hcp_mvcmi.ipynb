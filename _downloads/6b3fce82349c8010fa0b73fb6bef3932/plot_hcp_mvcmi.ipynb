{
  "cells": [
    {
      "cell_type": "markdown",
      "metadata": {},
      "source": [
        "\n# Run MVCMI on HCP data\n\nThis example demonstrates how to run MVCMI on\npre-processed HCP data.\n"
      ]
    },
    {
      "cell_type": "code",
      "execution_count": null,
      "metadata": {
        "collapsed": false
      },
      "outputs": [],
      "source": [
        "# Authors: Padma Sundaram\n#          Mainak Jas"
      ]
    },
    {
      "cell_type": "markdown",
      "metadata": {},
      "source": [
        "we will first load the necessary modules\n\n"
      ]
    },
    {
      "cell_type": "code",
      "execution_count": null,
      "metadata": {
        "collapsed": false
      },
      "outputs": [],
      "source": [
        "import numpy as np\nimport matplotlib.pyplot as plt\n\nfrom mvcmi import compute_cmi, compute_ccoef_pca, reduce_dim\nfrom mvcmi.datasets import fetch_hcp_sample, load_label_ts\n\nfrom joblib import Parallel, delayed\n\nn_jobs = 1 # number of cores to use when running PCA in parallel\nn_parcels = 10 # just to make example run faster\ndim_red = 0.95"
      ]
    },
    {
      "cell_type": "markdown",
      "metadata": {},
      "source": [
        "load the preprocessed data\n\n"
      ]
    },
    {
      "cell_type": "code",
      "execution_count": null,
      "metadata": {
        "collapsed": false
      },
      "outputs": [],
      "source": [
        "data_path = fetch_hcp_sample()\n\nlabel_ts_fname = data_path / 'label_ts.npz'\nlabel_ts = load_label_ts(label_ts_fname, n_parcels=n_parcels)"
      ]
    },
    {
      "cell_type": "markdown",
      "metadata": {},
      "source": [
        "reduce dimensionality using PCA\n\n"
      ]
    },
    {
      "cell_type": "code",
      "execution_count": null,
      "metadata": {
        "collapsed": false
      },
      "outputs": [],
      "source": [
        "n_times = label_ts[0].shape[1] \n\nmin_dim = 2\nmax_dim = n_times - 15\n\nparcel_sizes = [None] * len(label_ts)\nlabel_ts_red = Parallel(n_jobs=n_jobs, verbose=4)(delayed(reduce_dim)(\n    this_ts, dim_red=dim_red, min_dim=min_dim, max_dim=max_dim, n_use=n_use)\n    for this_ts, n_use in zip(label_ts, parcel_sizes))"
      ]
    },
    {
      "cell_type": "markdown",
      "metadata": {},
      "source": [
        "do the actual CMI computation\n\n"
      ]
    },
    {
      "cell_type": "code",
      "execution_count": null,
      "metadata": {
        "collapsed": false
      },
      "outputs": [],
      "source": [
        "print (\"computing cmi\")\ncmimtx = compute_cmi(label_ts_red)"
      ]
    },
    {
      "cell_type": "markdown",
      "metadata": {},
      "source": [
        "compare to correlation coefficient\n\n"
      ]
    },
    {
      "cell_type": "code",
      "execution_count": null,
      "metadata": {
        "collapsed": false
      },
      "outputs": [],
      "source": [
        "print (\"computing sccoef_pca\")\ncorrmtx = compute_ccoef_pca(label_ts_red)"
      ]
    },
    {
      "cell_type": "markdown",
      "metadata": {},
      "source": [
        "plot the CMI matrix\n\n"
      ]
    },
    {
      "cell_type": "code",
      "execution_count": null,
      "metadata": {
        "collapsed": false
      },
      "outputs": [],
      "source": [
        "plt.imshow(cmimtx)\nplt.colorbar()"
      ]
    },
    {
      "cell_type": "markdown",
      "metadata": {},
      "source": [
        "plot the correlation matrix\n\n"
      ]
    },
    {
      "cell_type": "code",
      "execution_count": null,
      "metadata": {
        "collapsed": false
      },
      "outputs": [],
      "source": [
        "plt.figure()\nplt.imshow(corrmtx)\nplt.colorbar()"
      ]
    }
  ],
  "metadata": {
    "kernelspec": {
      "display_name": "Python 3",
      "language": "python",
      "name": "python3"
    },
    "language_info": {
      "codemirror_mode": {
        "name": "ipython",
        "version": 3
      },
      "file_extension": ".py",
      "mimetype": "text/x-python",
      "name": "python",
      "nbconvert_exporter": "python",
      "pygments_lexer": "ipython3",
      "version": "3.8.18"
    }
  },
  "nbformat": 4,
  "nbformat_minor": 0
}